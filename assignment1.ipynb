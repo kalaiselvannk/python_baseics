{
 "cells": [
  {
   "cell_type": "markdown",
   "metadata": {},
   "source": [
    "# 1. In the below elements which of them are values or an expression? \n",
    "# eg:- values can be integer or string and expressions will be mathematical operators.\n",
    "*\n",
    "&#39;hello&#39;\n",
    "-87.8\n",
    "-\n",
    "/\n",
    "+\n",
    "6"
   ]
  },
  {
   "cell_type": "code",
   "execution_count": 5,
   "metadata": {},
   "outputs": [
    {
     "name": "stdout",
     "output_type": "stream",
     "text": [
      "values are:\n",
      "-87.8\n",
      "6\n",
      "hello\n",
      "expressions are:\n",
      "-\n",
      "/\n",
      "+\n",
      "*\n"
     ]
    }
   ],
   "source": [
    "print(\"values are:\")\n",
    "print(-87.8)\n",
    "print(6)\n",
    "print('hello')\n",
    "print('expressions are:')\n",
    "print('-')\n",
    "print('/')\n",
    "print('+')\n",
    "print('*')"
   ]
  },
  {
   "cell_type": "markdown",
   "metadata": {},
   "source": [
    "# 2. What is the difference between string and variable?\n"
   ]
  },
  {
   "cell_type": "markdown",
   "metadata": {},
   "source": [
    "# String:\n",
    "## a string is a sequence of charaters,it is denoted using literals ',\"and \"\"\" for multi lines.\n",
    "# variable:\n",
    "## a variable is a name that is a reference or pointer to an object\n",
    "## example a=\"20\" ,here a is the variable which refers to the string object \"20\" "
   ]
  },
  {
   "cell_type": "markdown",
   "metadata": {},
   "source": [
    "# 3. Describe three different data types.\n",
    "## Text Type: str\n",
    "### string are used for representing single line or multi line text\n",
    "## Numeric Types:\n",
    "### int - Int, or integer, is a whole number, positive or negative, without decimals, of unlimited length\n",
    "### Float - Float, or \"floating point number\" is a number, positive or negative, containing one or more decimals.\n",
    "###  Complex- Complex numbers has real and imaginary parts and are written with a \"j\" as the imaginary part\n",
    "## Boolean Type:\n",
    "### bool- can hold True or False value"
   ]
  },
  {
   "cell_type": "markdown",
   "metadata": {},
   "source": [
    "# 4. What is an expression made up of? What do all expressions do?\n",
    "### an expression contains operands and operator, an expression evaluates the operation on the operands\n",
    "### exaple : 5+5, here 5,5 are operands and + is operator when executed will provide the result as 10"
   ]
  },
  {
   "cell_type": "markdown",
   "metadata": {},
   "source": [
    "# 6. After running the following code, what does the variable bacon contain?\n",
    "### bacon = 22\n",
    "### bacon + 1\n",
    "\n"
   ]
  },
  {
   "cell_type": "code",
   "execution_count": 8,
   "metadata": {},
   "outputs": [
    {
     "name": "stdout",
     "output_type": "stream",
     "text": [
      "bacon contains: 22\n"
     ]
    }
   ],
   "source": [
    "bacon=22;bacon+1;\n",
    "print(\"bacon contains:\",bacon)"
   ]
  },
  {
   "cell_type": "raw",
   "metadata": {},
   "source": [
    "7. What should the values of the following two terms be?\n",
    "'spam' + 'spamspam'\n",
    "'spam' * 3\n"
   ]
  },
  {
   "cell_type": "code",
   "execution_count": 9,
   "metadata": {},
   "outputs": [
    {
     "name": "stdout",
     "output_type": "stream",
     "text": [
      "spamspamspam\n",
      "spamspamspam\n"
     ]
    }
   ],
   "source": [
    "print('spam' + 'spamspam')\n",
    "print('spam' * 3)"
   ]
  },
  {
   "cell_type": "markdown",
   "metadata": {},
   "source": [
    "# 8. Why is eggs a valid variable name while 100 is invalid?\n",
    "### a variable name should start with alphabet[a-zA-Z_] after the first character it can have a numeric character \n",
    "### so eggs and eggs0 are valid names and 100 is invalid name"
   ]
  },
  {
   "cell_type": "markdown",
   "metadata": {},
   "source": [
    "# 9. What three functions can be used to get the integer, floating-point number, or string version of a value?\n",
    "## int(),float() and str() are the functions "
   ]
  },
  {
   "cell_type": "markdown",
   "metadata": {},
   "source": [
    "# 10. Why does this expression cause an error? How can you fix it?\n",
    "'I have eaten ' + 99 + ' burritos.'\n"
   ]
  },
  {
   "cell_type": "code",
   "execution_count": 15,
   "metadata": {},
   "outputs": [
    {
     "name": "stdout",
     "output_type": "stream",
     "text": [
      "I have eaten 99 burritos.\n"
     ]
    }
   ],
   "source": [
    "# while applying + with a integer and a string ,interpreter is trying to add the 99 with the string instead of concatenation\n",
    "# can be fixed by casting the number to string\n",
    "print('I have eaten ' + str(99) + ' burritos.')"
   ]
  },
  {
   "cell_type": "code",
   "execution_count": null,
   "metadata": {},
   "outputs": [],
   "source": []
  }
 ],
 "metadata": {
  "kernelspec": {
   "display_name": "Python 3",
   "language": "python",
   "name": "python3"
  },
  "language_info": {
   "codemirror_mode": {
    "name": "ipython",
    "version": 3
   },
   "file_extension": ".py",
   "mimetype": "text/x-python",
   "name": "python",
   "nbconvert_exporter": "python",
   "pygments_lexer": "ipython3",
   "version": "3.8.3"
  }
 },
 "nbformat": 4,
 "nbformat_minor": 4
}
